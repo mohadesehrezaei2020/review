{
  "nbformat": 4,
  "nbformat_minor": 0,
  "metadata": {
    "colab": {
      "name": "review",
      "provenance": [],
      "authorship_tag": "ABX9TyNVS8NOwDXGMmdw+EAbarUk"
    },
    "kernelspec": {
      "name": "python3",
      "display_name": "Python 3"
    }
  },
  "cells": [
    {
      "cell_type": "code",
      "metadata": {
        "id": "cVpCNGWACjR5",
        "colab_type": "code",
        "colab": {
          "base_uri": "https://localhost:8080/",
          "height": 68
        },
        "outputId": "136c46cb-1cf9-48e3-f6da-1517fbf7da08"
      },
      "source": [
        "x = input (\"Enter a number\")\n",
        "y = input (\"now enter another  number\")\n",
        "if (int (x) > int (y)) :\n",
        "  print (\"first number is larger\")\n",
        "else:\n",
        "    print (\"secound number is larger\")"
      ],
      "execution_count": 2,
      "outputs": [
        {
          "output_type": "stream",
          "text": [
            "Enter a number15\n",
            "now enter another  number28\n",
            "secound number is larger\n"
          ],
          "name": "stdout"
        }
      ]
    },
    {
      "cell_type": "code",
      "metadata": {
        "id": "LBn9FMoZ6B9c",
        "colab_type": "code",
        "colab": {
          "base_uri": "https://localhost:8080/",
          "height": 34
        },
        "outputId": "dc87bf57-98a6-4b3f-c6aa-6e95534e68dd"
      },
      "source": [
        "a= 1\n",
        "b = 2\n",
        "c = 3\n",
        "d= 4\n",
        "g = 5\n",
        "l= 6\n",
        "z =7\n",
        "\n",
        "random.randint (a, z)\n"
      ],
      "execution_count": null,
      "outputs": [
        {
          "output_type": "execute_result",
          "data": {
            "text/plain": [
              "2"
            ]
          },
          "metadata": {
            "tags": []
          },
          "execution_count": 17
        }
      ]
    },
    {
      "cell_type": "code",
      "metadata": {
        "id": "8WGYzYEW--Gk",
        "colab_type": "code",
        "colab": {
          "base_uri": "https://localhost:8080/",
          "height": 34
        },
        "outputId": "7cb62a0c-4f32-4c1f-c9aa-33879c92e851"
      },
      "source": [
        "a=12\n",
        "b=13\n",
        "c=14\n",
        "d=15\n",
        "e=16\n",
        "f=17\n",
        "g=18\n",
        "\n",
        "random.randint (a, g)"
      ],
      "execution_count": null,
      "outputs": [
        {
          "output_type": "execute_result",
          "data": {
            "text/plain": [
              "13"
            ]
          },
          "metadata": {
            "tags": []
          },
          "execution_count": 19
        }
      ]
    },
    {
      "cell_type": "code",
      "metadata": {
        "id": "r6NqfWL2tOJo",
        "colab_type": "code",
        "colab": {
          "base_uri": "https://localhost:8080/",
          "height": 51
        },
        "outputId": "7ebb9fbd-4085-41a3-cb62-3468ee7f803c"
      },
      "source": [
        "print (\"Hello world\")\n",
        "print (\"be honest\")"
      ],
      "execution_count": null,
      "outputs": [
        {
          "output_type": "stream",
          "text": [
            "Hello world\n",
            "be honest\n"
          ],
          "name": "stdout"
        }
      ]
    },
    {
      "cell_type": "code",
      "metadata": {
        "id": "EP5GlJr_ts6M",
        "colab_type": "code",
        "colab": {
          "base_uri": "https://localhost:8080/",
          "height": 34
        },
        "outputId": "9f3e58aa-777b-4497-86fc-d16f763db28f"
      },
      "source": [
        "number1 = 17\n",
        "number2= 3\n",
        "print (\"the sum of number1 and number2 is\" , number1 + number2)"
      ],
      "execution_count": null,
      "outputs": [
        {
          "output_type": "stream",
          "text": [
            "the sum of number1 and number2 is 20\n"
          ],
          "name": "stdout"
        }
      ]
    },
    {
      "cell_type": "code",
      "metadata": {
        "id": "D6sRghxeuQ1B",
        "colab_type": "code",
        "colab": {
          "base_uri": "https://localhost:8080/",
          "height": 68
        },
        "outputId": "8196d19f-cbe0-4ead-bfbf-6308eaab3a16"
      },
      "source": [
        "number1 = input (\"enter a number \")\n",
        "number2 = input (\"enter another number \")\n",
        "print (\"The product of number1 and number2 is\" , int (number1)* int (number2))"
      ],
      "execution_count": null,
      "outputs": [
        {
          "output_type": "stream",
          "text": [
            "enter a number 17\n",
            "enter another number 2\n",
            "The prodoction of number1 and number2 is 34\n"
          ],
          "name": "stdout"
        }
      ]
    },
    {
      "cell_type": "code",
      "metadata": {
        "id": "jSiKtBROwcOg",
        "colab_type": "code",
        "colab": {
          "base_uri": "https://localhost:8080/",
          "height": 68
        },
        "outputId": "2ef3ce7d-bb2a-489f-df74-b903628de46a"
      },
      "source": [
        "number1 = input (\"Enter a number \")\n",
        "number2 = input (\"Enter another number \")\n",
        "if (((int (number1) * int (number2)) / 2) > 15):\n",
        "  print (\"you are genius\")\n",
        "else :\n",
        "  print (\"you are so energetic\")\n",
        "  "
      ],
      "execution_count": null,
      "outputs": [
        {
          "output_type": "stream",
          "text": [
            "Enter a number 18\n",
            "Enter another number 4\n",
            "you are genius\n"
          ],
          "name": "stdout"
        }
      ]
    },
    {
      "cell_type": "code",
      "metadata": {
        "id": "N8OZl9oWEPXk",
        "colab_type": "code",
        "colab": {
          "base_uri": "https://localhost:8080/",
          "height": 68
        },
        "outputId": "00e44737-02aa-4221-c007-13e195932516"
      },
      "source": [
        "x = input (\"Enter a number\")\n",
        "y = input (\"Enter another number\")\n",
        "if (int (x) > int (y)) : \n",
        "  print (\"x is lareger number\")\n",
        "else :\n",
        "    print (\"y is larger number\")\n"
      ],
      "execution_count": null,
      "outputs": [
        {
          "output_type": "stream",
          "text": [
            "Enter a number8\n",
            "Enter another number15\n",
            "y is larger number\n"
          ],
          "name": "stdout"
        }
      ]
    },
    {
      "cell_type": "code",
      "metadata": {
        "id": "YcHcw5xD2slG",
        "colab_type": "code",
        "colab": {}
      },
      "source": [
        ""
      ],
      "execution_count": null,
      "outputs": []
    },
    {
      "cell_type": "markdown",
      "metadata": {
        "id": "NnGssy8j3r0n",
        "colab_type": "text"
      },
      "source": [
        ""
      ]
    },
    {
      "cell_type": "code",
      "metadata": {
        "id": "5kW78CSJ3sw8",
        "colab_type": "code",
        "colab": {}
      },
      "source": [
        ""
      ],
      "execution_count": null,
      "outputs": []
    },
    {
      "cell_type": "code",
      "metadata": {
        "id": "m4Wj55403__y",
        "colab_type": "code",
        "colab": {
          "base_uri": "https://localhost:8080/",
          "height": 163
        },
        "outputId": "f1029095-7ac7-431b-ccf5-ef8016385627"
      },
      "source": [
        "random.randint (a,b)\n"
      ],
      "execution_count": null,
      "outputs": [
        {
          "output_type": "error",
          "ename": "NameError",
          "evalue": "ignored",
          "traceback": [
            "\u001b[0;31m---------------------------------------------------------------------------\u001b[0m",
            "\u001b[0;31mNameError\u001b[0m                                 Traceback (most recent call last)",
            "\u001b[0;32m<ipython-input-12-1315ce7f35be>\u001b[0m in \u001b[0;36m<module>\u001b[0;34m()\u001b[0m\n\u001b[0;32m----> 1\u001b[0;31m \u001b[0mrandom\u001b[0m\u001b[0;34m.\u001b[0m\u001b[0mrandint\u001b[0m \u001b[0;34m(\u001b[0m\u001b[0ma\u001b[0m\u001b[0;34m,\u001b[0m\u001b[0mb\u001b[0m\u001b[0;34m)\u001b[0m\u001b[0;34m\u001b[0m\u001b[0;34m\u001b[0m\u001b[0m\n\u001b[0m",
            "\u001b[0;31mNameError\u001b[0m: name 'a' is not defined"
          ]
        }
      ]
    },
    {
      "cell_type": "code",
      "metadata": {
        "id": "M51h5pEejJ6t",
        "colab_type": "code",
        "colab": {
          "base_uri": "https://localhost:8080/",
          "height": 68
        },
        "outputId": "badec67d-36f4-4bf6-b176-dbf6442e6de1"
      },
      "source": [
        "status1 = input (\"enter a number\")\n",
        "status2 = input (\"Enter another number\")\n",
        "if (int (status1)< int(status2)):\n",
        "  print (\"To day is a good day\")\n",
        "else:\n",
        "  print (\"you are realy smart\")\n"
      ],
      "execution_count": null,
      "outputs": [
        {
          "output_type": "stream",
          "text": [
            "enter a number129\n",
            "Enter another number23\n",
            "you are realy smart\n"
          ],
          "name": "stdout"
        }
      ]
    }
  ]
}